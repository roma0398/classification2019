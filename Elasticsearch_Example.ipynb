{
 "cells": [
  {
   "cell_type": "markdown",
   "metadata": {},
   "source": [
    "### Elastichsearch\n",
    "\n",
    "1. Запускаем \n",
    "```bash\n",
    "docker run -p 9200:9200 -p 9300:9300 -e \"discovery.type=single-node\" docker.elastic.co/elasticsearch/elasticsearch:7.3.2\n",
    "```\n",
    "2. Ставим клиент для Python \n",
    "```bash\n",
    "pip3 install -U elasticsearch-dsl\n",
    "```\n",
    "3. Соединяемся\n",
    "\n",
    "Альтернативно можно: \n",
    "1. Скачать:\n",
    "https://artifacts.elastic.co/downloads/elasticsearch/elasticsearch-oss-7.3.2-{linux|windows}-x86_64.tar.gz\n",
    "2. Распаковать\n",
    "3. Запустить `bin\\elasticseach`"
   ]
  },
  {
   "cell_type": "code",
   "execution_count": 1,
   "metadata": {
    "collapsed": true
   },
   "outputs": [],
   "source": [
    "from elasticsearch import Elasticsearch\n",
    "from elasticsearch_dsl import Search, Index, Document, analyzer, Integer, Text, Keyword"
   ]
  },
  {
   "cell_type": "code",
   "execution_count": 2,
   "metadata": {},
   "outputs": [],
   "source": [
    "es = Elasticsearch(hosts=['localhost'])\n",
    "test_index = Index('test_index', using=es)\n",
    "\n",
    "test_index.delete(ignore=404)\n",
    "test_index.create()"
   ]
  },
  {
   "cell_type": "code",
   "execution_count": 3,
   "metadata": {},
   "outputs": [],
   "source": [
    "simple = analyzer('simple',\n",
    "    tokenizer=\"standard\",\n",
    "    filter=[\"russian_stop\", \"lowercase\", \"russian_stemmer\"],\n",
    ")"
   ]
  },
  {
   "cell_type": "code",
   "execution_count": 4,
   "metadata": {},
   "outputs": [],
   "source": [
    "@test_index.document\n",
    "class MyDocument(Document):\n",
    "    text_id = Integer()\n",
    "    title = Text(analyzer=simple)\n",
    "    text = Text(analyzer=simple)"
   ]
  },
  {
   "cell_type": "code",
   "execution_count": 5,
   "metadata": {},
   "outputs": [
    {
     "name": "stderr",
     "output_type": "stream",
     "text": [
      "3190it [00:52, 60.32it/s]\n"
     ]
    }
   ],
   "source": [
    "import tqdm\n",
    "import zipfile\n",
    "import codecs\n",
    "\n",
    "def read_texts(fn='data/texts.zip'):\n",
    "    with zipfile.ZipFile(fn) as zf:\n",
    "        with zf.open('texts.txt') as f:\n",
    "            for idx, line in tqdm.tqdm(enumerate(codecs.iterdecode(f, 'utf-8'))):                                \n",
    "                my_doc = MyDocument(text_id=idx, title='Document #%d'% idx, text=line) \n",
    "                my_doc.save()\n",
    "                \n",
    "                \n",
    "read_texts()            "
   ]
  },
  {
   "cell_type": "code",
   "execution_count": 6,
   "metadata": {},
   "outputs": [
    {
     "name": "stdout",
     "output_type": "stream",
     "text": [
      "1231\t обрывки Выхожу\n",
      "720\t Не стало Юрия С\n",
      "1287\t Провидец Преди\n",
      "808\t Умница Mr. Free\n",
      "14\t 12 миллионов бес\n",
      "135\t Ах , какой был \n",
      "330\t Человек и кошка\n",
      "2007\t Абсурдотека:Вр\n",
      "449\t 31 января 2006 \n"
     ]
    }
   ],
   "source": [
    "for m in MyDocument.search().query('match', text='привет').execute():\n",
    "    print(m.text[:20])"
   ]
  },
  {
   "cell_type": "code",
   "execution_count": 16,
   "metadata": {},
   "outputs": [
    {
     "name": "stdout",
     "output_type": "stream",
     "text": [
      "Hits: 9\n"
     ]
    }
   ],
   "source": [
    "res = es.search(index='test_index', doc_type='doc', q='привет')\n",
    "print('Hits: {}'.format(res['hits']['total']['value']))"
   ]
  },
  {
   "cell_type": "code",
   "execution_count": null,
   "metadata": {},
   "outputs": [],
   "source": []
  }
 ],
 "metadata": {
  "kernelspec": {
   "display_name": "Python 3",
   "language": "python",
   "name": "python3"
  },
  "language_info": {
   "codemirror_mode": {
    "name": "ipython",
    "version": 3
   },
   "file_extension": ".py",
   "mimetype": "text/x-python",
   "name": "python",
   "nbconvert_exporter": "python",
   "pygments_lexer": "ipython3",
   "version": "3.6.8"
  }
 },
 "nbformat": 4,
 "nbformat_minor": 2
}
