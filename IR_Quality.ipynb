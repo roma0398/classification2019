{
 "cells": [
  {
   "cell_type": "markdown",
   "metadata": {},
   "source": [
    "# Оценка поиска"
   ]
  },
  {
   "cell_type": "code",
   "execution_count": 1,
   "metadata": {},
   "outputs": [],
   "source": [
    "import matplotlib.pyplot as plt\n",
    "import numpy as np\n",
    "import pandas as pd\n",
    "\n",
    "%matplotlib inline"
   ]
  },
  {
   "cell_type": "markdown",
   "metadata": {},
   "source": [
    "Предположим у нас есть 5 поисковых запросов, по которым поисковая система выдала по 5 документов. Ассесоры поставили каждой паре запрос/документ оценку от 0 до 4. Зададим результаты в виде матрицы, где по строкам запросы, по столбцам - оценки. "
   ]
  },
  {
   "cell_type": "code",
   "execution_count": 2,
   "metadata": {},
   "outputs": [],
   "source": [
    "evaluation = [[4, 1, 3, 1, 0], \n",
    "              [0, 3, 3, 4, 0], \n",
    "              [0, 0, 0, 0, 2], \n",
    "              [4, 0, 0, 0, 3], \n",
    "              [1, 3, 0, 0, 0]\n",
    "             ]\n",
    "\n",
    "total_relevant_docs = [3, 3, 2, 2, 1]"
   ]
  },
  {
   "cell_type": "code",
   "execution_count": 3,
   "metadata": {},
   "outputs": [
    {
     "data": {
      "text/html": [
       "<div>\n",
       "<style scoped>\n",
       "    .dataframe tbody tr th:only-of-type {\n",
       "        vertical-align: middle;\n",
       "    }\n",
       "\n",
       "    .dataframe tbody tr th {\n",
       "        vertical-align: top;\n",
       "    }\n",
       "\n",
       "    .dataframe thead th {\n",
       "        text-align: right;\n",
       "    }\n",
       "</style>\n",
       "<table border=\"1\" class=\"dataframe\">\n",
       "  <thead>\n",
       "    <tr style=\"text-align: right;\">\n",
       "      <th></th>\n",
       "      <th>pos1</th>\n",
       "      <th>pos2</th>\n",
       "      <th>pos3</th>\n",
       "      <th>pos4</th>\n",
       "      <th>pos5</th>\n",
       "    </tr>\n",
       "  </thead>\n",
       "  <tbody>\n",
       "    <tr>\n",
       "      <th>q1</th>\n",
       "      <td>4</td>\n",
       "      <td>1</td>\n",
       "      <td>3</td>\n",
       "      <td>1</td>\n",
       "      <td>0</td>\n",
       "    </tr>\n",
       "    <tr>\n",
       "      <th>q2</th>\n",
       "      <td>0</td>\n",
       "      <td>3</td>\n",
       "      <td>3</td>\n",
       "      <td>4</td>\n",
       "      <td>0</td>\n",
       "    </tr>\n",
       "    <tr>\n",
       "      <th>q3</th>\n",
       "      <td>0</td>\n",
       "      <td>0</td>\n",
       "      <td>0</td>\n",
       "      <td>0</td>\n",
       "      <td>2</td>\n",
       "    </tr>\n",
       "    <tr>\n",
       "      <th>q4</th>\n",
       "      <td>4</td>\n",
       "      <td>0</td>\n",
       "      <td>0</td>\n",
       "      <td>0</td>\n",
       "      <td>3</td>\n",
       "    </tr>\n",
       "    <tr>\n",
       "      <th>q5</th>\n",
       "      <td>1</td>\n",
       "      <td>3</td>\n",
       "      <td>0</td>\n",
       "      <td>0</td>\n",
       "      <td>0</td>\n",
       "    </tr>\n",
       "  </tbody>\n",
       "</table>\n",
       "</div>"
      ],
      "text/plain": [
       "    pos1  pos2  pos3  pos4  pos5\n",
       "q1     4     1     3     1     0\n",
       "q2     0     3     3     4     0\n",
       "q3     0     0     0     0     2\n",
       "q4     4     0     0     0     3\n",
       "q5     1     3     0     0     0"
      ]
     },
     "execution_count": 3,
     "metadata": {},
     "output_type": "execute_result"
    }
   ],
   "source": [
    "q_idx = ['q%d' % (x + 1) for x in range(len(evaluation))]\n",
    "pos_idx = ['pos%d' % (x + 1) for x in range(len(evaluation[0]))]\n",
    "                                             \n",
    "pd.DataFrame(data=evaluation, index=q_idx, columns=pos_idx)"
   ]
  },
  {
   "cell_type": "markdown",
   "metadata": {},
   "source": [
    "Можно также построить матрицу бинарных оценок, где $\\{2, 3, 4\\}$ - релевантно, $\\{0, 1\\}$ - нерелевантно."
   ]
  },
  {
   "cell_type": "code",
   "execution_count": 4,
   "metadata": {},
   "outputs": [
    {
     "data": {
      "text/html": [
       "<div>\n",
       "<style scoped>\n",
       "    .dataframe tbody tr th:only-of-type {\n",
       "        vertical-align: middle;\n",
       "    }\n",
       "\n",
       "    .dataframe tbody tr th {\n",
       "        vertical-align: top;\n",
       "    }\n",
       "\n",
       "    .dataframe thead th {\n",
       "        text-align: right;\n",
       "    }\n",
       "</style>\n",
       "<table border=\"1\" class=\"dataframe\">\n",
       "  <thead>\n",
       "    <tr style=\"text-align: right;\">\n",
       "      <th></th>\n",
       "      <th>pos1</th>\n",
       "      <th>pos2</th>\n",
       "      <th>pos3</th>\n",
       "      <th>pos4</th>\n",
       "      <th>pos5</th>\n",
       "    </tr>\n",
       "  </thead>\n",
       "  <tbody>\n",
       "    <tr>\n",
       "      <th>q1</th>\n",
       "      <td>1</td>\n",
       "      <td>0</td>\n",
       "      <td>1</td>\n",
       "      <td>0</td>\n",
       "      <td>0</td>\n",
       "    </tr>\n",
       "    <tr>\n",
       "      <th>q2</th>\n",
       "      <td>0</td>\n",
       "      <td>1</td>\n",
       "      <td>1</td>\n",
       "      <td>1</td>\n",
       "      <td>0</td>\n",
       "    </tr>\n",
       "    <tr>\n",
       "      <th>q3</th>\n",
       "      <td>0</td>\n",
       "      <td>0</td>\n",
       "      <td>0</td>\n",
       "      <td>0</td>\n",
       "      <td>1</td>\n",
       "    </tr>\n",
       "    <tr>\n",
       "      <th>q4</th>\n",
       "      <td>1</td>\n",
       "      <td>0</td>\n",
       "      <td>0</td>\n",
       "      <td>0</td>\n",
       "      <td>1</td>\n",
       "    </tr>\n",
       "    <tr>\n",
       "      <th>q5</th>\n",
       "      <td>0</td>\n",
       "      <td>1</td>\n",
       "      <td>0</td>\n",
       "      <td>0</td>\n",
       "      <td>0</td>\n",
       "    </tr>\n",
       "  </tbody>\n",
       "</table>\n",
       "</div>"
      ],
      "text/plain": [
       "    pos1  pos2  pos3  pos4  pos5\n",
       "q1     1     0     1     0     0\n",
       "q2     0     1     1     1     0\n",
       "q3     0     0     0     0     1\n",
       "q4     1     0     0     0     1\n",
       "q5     0     1     0     0     0"
      ]
     },
     "execution_count": 4,
     "metadata": {},
     "output_type": "execute_result"
    }
   ],
   "source": [
    "# бинарные оценки\n",
    "evaluation_b = [[int(x in {2, 3, 4}) for x in lst] for lst in evaluation]\n",
    "pd.DataFrame(data = evaluation_b, index=q_idx, columns=pos_idx)"
   ]
  },
  {
   "cell_type": "markdown",
   "metadata": {},
   "source": [
    "### Метрики\n",
    "<table width=\"100%\">\n",
    "<tr><td>Precision: </td><td>$$P = \\frac{tp}{tp + fp}$$</td></tr>\n",
    "<tr><td>Recall:</td> <td>$$R = \\frac{tp}{tp + fn}$$</td></tr>\n",
    "\n",
    "<tr><td>F-measure:</td> <td>$$F = \\frac{(\\beta^2 + 1) P R}{\\beta^2P + R}$$</td></tr>\n",
    "\n",
    "<tr><td>Mean averaged precision:</td> <td>$$\\text{MAP} = \\frac{1}{|Q|}\\sum_{j=1}^{|Q|}\\frac{1}{m_j}\\sum_{k=1}^{m_j}P(R_{jk})$$</td></tr>\n",
    "\n",
    "<tr><td>Mean reciprocal rank: </td><td>$$\\text{MRR} = \\frac{1}{|Q|} \\sum_{i=1}^{|Q|} \\frac{1}{\\text{rank}_i}$$</td></tr>\n",
    "\n",
    "<tr><td>Discounted Cumulative Gain:</td> <td>$$\\text{DCG}_k = \\frac{1}{|Q|} \\sum_{j=1}^{|Q|}\\sum_{i=1}^{k}\\frac{2^{\\text{rel}_i}}{\\log (i + 1)}$$</td></tr>\n",
    "<tr><td>Yandex p-found:</td> <td>$$\\text{pfound}=\\frac{1}{|Q|} \\sum_{j=1}^{|Q|}   \\sum_{i=1}^{k} \\text{plook}_i \\text{prel}_i$$\n",
    "<br/>\n",
    "$$\\text{plook}_i = \\text{plook}_{i-1} (1 - \\text{prel}_{i-1}) (1 -  \\text{pbreak})$$</td></tr>\n",
    "</table>"
   ]
  },
  {
   "cell_type": "code",
   "execution_count": 5,
   "metadata": {},
   "outputs": [
    {
     "name": "stdout",
     "output_type": "stream",
     "text": [
      "P      - 0.360\n",
      "R      - 0.833\n",
      "P@1    - 0.400\n",
      "P@3    - 0.400\n",
      "R_prec - 0.367\n",
      "MRR    - 0.640\n",
      "MAP    - 0.499\n"
     ]
    }
   ],
   "source": [
    "def safe_div(a, b):\n",
    "    return 1.0 * a / b if b != 0 else 0.\n",
    "\n",
    "def P(serp, total_rel):\n",
    "    tp = sum(serp)\n",
    "    fp = len(serp) - tp\n",
    "    return safe_div(tp, tp + fp)\n",
    "    \n",
    "def R(serp, total_rel):\n",
    "    tp = sum(serp)\n",
    "    fn = total_rel - tp\n",
    "    return safe_div(tp, tp + fn)\n",
    "\n",
    "def P_k(k):\n",
    "    def _P_k(serp, total_rel):\n",
    "        tp = sum(serp[:k])\n",
    "        fp = k - tp\n",
    "        return safe_div(tp, tp + fp)\n",
    "    _P_k.__name__ = str('P@%d' % k)\n",
    "    return _P_k\n",
    "\n",
    "def R_prec(serp, total_rel):\n",
    "    tp = sum(serp[:total_rel])\n",
    "    fp = total_rel - tp\n",
    "    return safe_div(tp, tp + fp)\n",
    "\n",
    "def MRR(serp, total_rel):\n",
    "    for k, d in enumerate(serp, 1):\n",
    "        if d == 1:\n",
    "            return 1. / k\n",
    "    return 0.\n",
    "\n",
    "def MAP(serp, total_rel):\n",
    "    acc = 0.\n",
    "    for k, d in enumerate(serp, 1):\n",
    "        prec = P_k(k)(serp, total_rel) * d\n",
    "        acc += prec\n",
    "    return acc / total_rel\n",
    "\n",
    "for metric in [P, R, P_k(1), P_k(3), R_prec, MRR, MAP]:\n",
    "    avg = 0.\n",
    "    for serp, total_rel in zip(evaluation_b, total_relevant_docs):\n",
    "        avg += metric(serp, total_rel)\n",
    "    print ('{:<6} - {:3.3f}'.format(metric.__name__, avg / len(total_relevant_docs)))\n",
    "\n"
   ]
  },
  {
   "cell_type": "code",
   "execution_count": 6,
   "metadata": {},
   "outputs": [],
   "source": [
    "def interpolated_P(serp, total_rel):\n",
    "    tp = fp = 0\n",
    "    lst_p = [] \n",
    "    lst_r = [] \n",
    "    for d in serp:\n",
    "        if d == 1:\n",
    "            tp += 1\n",
    "            p = safe_div(tp, tp + fp)\n",
    "            r = safe_div(tp, total_rel)\n",
    "            lst_p.append(p)\n",
    "            lst_r.append(r)\n",
    "        else:\n",
    "            fp += 1        \n",
    "    # очень неоптимально         \n",
    "    def at_value(x):        \n",
    "        for i in range(len(lst_p)):\n",
    "            if lst_r[i] >= x:\n",
    "                return max(lst_p[i:])\n",
    "        return None\n",
    "\n",
    "    return at_value"
   ]
  },
  {
   "cell_type": "code",
   "execution_count": 7,
   "metadata": {},
   "outputs": [
    {
     "data": {
      "text/plain": [
       "[<matplotlib.lines.Line2D at 0x7f7de9f3d518>]"
      ]
     },
     "execution_count": 7,
     "metadata": {},
     "output_type": "execute_result"
    },
    {
     "data": {
      "image/png": "[encoded data removed]",
      "text/plain": [
       "<matplotlib.figure.Figure at 0x7f7e1c57a160>"
      ]
     },
     "metadata": {},
     "output_type": "display_data"
    }
   ],
   "source": [
    "%matplotlib inline\n",
    "\n",
    "values = []\n",
    "for x in np.linspace(0., 1., 11):\n",
    "    acc = []\n",
    "    for serp, total_rel in zip(evaluation_b, total_relevant_docs):   \n",
    "        int_p = interpolated_P(serp, total_rel)    \n",
    "        v = int_p(x)\n",
    "        if v is not None:\n",
    "            acc.append(v)\n",
    "    values.append(np.mean(acc))    \n",
    "\n",
    "plt.plot(np.linspace(0., 1., 11), values, '*-')"
   ]
  },
  {
   "cell_type": "code",
   "execution_count": 8,
   "metadata": {},
   "outputs": [],
   "source": [
    "def DCG(serp, total_rel):\n",
    "    acc = 0.\n",
    "    for k, d in enumerate(serp, 1):\n",
    "        acc += (2**d - 1) / np.log(1. + k)\n",
    "    return acc\n",
    "    \n",
    "def NDCG(serp, total_rel):\n",
    "    ss = sorted(serp, key=lambda x: -x)\n",
    "    return DCG(serp, total_rel) / DCG(ss, total_rel)\n"
   ]
  },
  {
   "cell_type": "code",
   "execution_count": 9,
   "metadata": {},
   "outputs": [
    {
     "name": "stdout",
     "output_type": "stream",
     "text": [
      "DCG    - 16.800\n",
      "NDCG   - 0.719\n"
     ]
    }
   ],
   "source": [
    "for metric in [DCG, NDCG]:\n",
    "    avg = 0.\n",
    "    for serp, total_rel in zip(evaluation, total_relevant_docs):\n",
    "        avg += metric(serp, total_rel)\n",
    "    print ('{:<6} - {:3.3f}'.format(metric.__name__, avg / len(total_relevant_docs)))"
   ]
  },
  {
   "cell_type": "code",
   "execution_count": null,
   "metadata": {
    "collapsed": true
   },
   "outputs": [],
   "source": []
  }
 ],
 "metadata": {
  "kernelspec": {
   "display_name": "Python 3",
   "language": "python",
   "name": "python3"
  },
  "language_info": {
   "codemirror_mode": {
    "name": "ipython",
    "version": 3
   },
   "file_extension": ".py",
   "mimetype": "text/x-python",
   "name": "python",
   "nbconvert_exporter": "python",
   "pygments_lexer": "ipython3",
   "version": "3.6.8"
  }
 },
 "nbformat": 4,
 "nbformat_minor": 2
}
